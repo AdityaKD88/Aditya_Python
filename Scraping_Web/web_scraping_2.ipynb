{
 "cells": [
  {
   "cell_type": "code",
   "execution_count": 1,
   "metadata": {},
   "outputs": [],
   "source": [
    "from selenium import webdriver\n",
    "from webdriver_manager.chrome import ChromeDriverManager\n",
    "from selenium.webdriver.common.keys import Keys"
   ]
  },
  {
   "cell_type": "code",
   "execution_count": 9,
   "metadata": {},
   "outputs": [
    {
     "name": "stderr",
     "output_type": "stream",
     "text": [
      "\n",
      "\n",
      "====== WebDriver manager ======\n",
      "Current google-chrome version is 95.0.4638\n",
      "Get LATEST chromedriver version for 95.0.4638 google-chrome\n",
      "Driver [C:\\Users\\Dell\\.wdm\\drivers\\chromedriver\\win32\\95.0.4638.69\\chromedriver.exe] found in cache\n",
      "C:\\Users\\Dell\\AppData\\Local\\Temp/ipykernel_4448/1503906442.py:1: DeprecationWarning: executable_path has been deprecated, please pass in a Service object\n",
      "  driver = webdriver.Chrome(ChromeDriverManager().install())\n"
     ]
    }
   ],
   "source": [
    "driver = webdriver.Chrome(ChromeDriverManager().install())"
   ]
  },
  {
   "cell_type": "markdown",
   "metadata": {},
   "source": [
    "# flipkart scrapper"
   ]
  },
  {
   "cell_type": "code",
   "execution_count": 10,
   "metadata": {},
   "outputs": [],
   "source": [
    "def get_fkrt_addr(query='bags',start_pos=1):\n",
    "    url = 'https://www.flipkart.com/search'\n",
    "    param1 = f'q={query}'                       # item to be search\n",
    "    param2 = f'page={start_pos}'                # starting page\n",
    "    return f'{url}?{param1}&{param2}'"
   ]
  },
  {
   "cell_type": "code",
   "execution_count": 11,
   "metadata": {},
   "outputs": [],
   "source": [
    "driver.get(get_fkrt_addr('watches'))"
   ]
  },
  {
   "cell_type": "code",
   "execution_count": null,
   "metadata": {},
   "outputs": [],
   "source": [
    "# just a text\n",
    "headings = driver.find_elements_by_css_selector('div._2WkVRV')\n",
    "for h in headings:\n",
    "    print(h.text)"
   ]
  },
  {
   "cell_type": "code",
   "execution_count": 13,
   "metadata": {},
   "outputs": [
    {
     "data": {
      "text/plain": [
       "40"
      ]
     },
     "execution_count": 13,
     "metadata": {},
     "output_type": "execute_result"
    }
   ],
   "source": [
    "len(headings)"
   ]
  },
  {
   "cell_type": "code",
   "execution_count": 7,
   "metadata": {},
   "outputs": [],
   "source": [
    "# actual code\n",
    "\n",
    "def extract_page_data(driver):\n",
    "    data = []\n",
    "    cards = driver.find_elements_by_css_selector('div._1xHGtK._373qXS')\n",
    "    if len(cards)> 0:\n",
    "        for item in cards:\n",
    "            data.append(dict(\n",
    "                brand = item.find_element_by_css_selector('div._2WkVRV').text,\n",
    "                title = item.find_element_by_css_selector('a.IRpwTa').get_attribute('title'),\n",
    "                price = item.find_element_by_css_selector('div._30jeq3').text,\n",
    "            ))\n",
    "    return data"
   ]
  },
  {
   "cell_type": "code",
   "execution_count": 8,
   "metadata": {},
   "outputs": [],
   "source": [
    "def get_flipkart_data(search = 'bags',pos = 1,):\n",
    "    all_data = [] \n",
    "    while True:\n",
    "        addr = get_fkrt_addr(search, pos)\n",
    "        driver.get(addr)\n",
    "        data = extract_page_data(driver)\n",
    "        if len(data):\n",
    "            all_data.extend(data)\n",
    "            pos += 1\n",
    "        else:\n",
    "            break\n",
    "    return all_data"
   ]
  },
  {
   "cell_type": "code",
   "execution_count": null,
   "metadata": {},
   "outputs": [],
   "source": []
  }
 ],
 "metadata": {
  "interpreter": {
   "hash": "d62006d1f3422635846181a997a61e8ec3049f797e5d7dfe0cd1bb84092b7c19"
  },
  "kernelspec": {
   "display_name": "Python 3.9.7 64-bit",
   "language": "python",
   "name": "python3"
  },
  "language_info": {
   "codemirror_mode": {
    "name": "ipython",
    "version": 3
   },
   "file_extension": ".py",
   "mimetype": "text/x-python",
   "name": "python",
   "nbconvert_exporter": "python",
   "pygments_lexer": "ipython3",
   "version": "3.9.7"
  },
  "orig_nbformat": 4
 },
 "nbformat": 4,
 "nbformat_minor": 2
}
